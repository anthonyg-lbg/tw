{
 "cells": [
  {
   "cell_type": "code",
   "execution_count": 1,
   "id": "bf5abd46-1081-4c5e-9e44-40d26d167f5f",
   "metadata": {
    "tags": []
   },
   "outputs": [],
   "source": [
    "from vertexai.preview import rag\n",
    "from vertexai.preview.generative_models import GenerativeModel, Tool\n",
    "import vertexai\n",
    "\n",
    "# !pip install llama-index\n",
    "from llama_index.core import PromptTemplate\n",
    "\n",
    "from dotenv import load_dotenv\n",
    "import os"
   ]
  },
  {
   "cell_type": "code",
   "execution_count": 2,
   "id": "1c83ec09-4d36-4c6d-b9e2-8963874b48ff",
   "metadata": {
    "tags": []
   },
   "outputs": [],
   "source": [
    "load_dotenv()\n",
    "\n",
    "BUCKET_NAME = os.getenv(\"GCP_BUCKET_NAME\")"
   ]
  },
  {
   "cell_type": "code",
   "execution_count": 3,
   "id": "314f9189-e9d0-4c4c-b995-e9af6c6e5269",
   "metadata": {
    "tags": []
   },
   "outputs": [],
   "source": [
    "# Initialize Vertex AI API once per session\n",
    "project_id = !gcloud config get project\n",
    "project_id = project_id.n\n",
    "location = \"us-central1\"\n",
    "\n",
    "vertexai.init(project=project_id, location=location)\n",
    "\n",
    "# Create RagCorpus\n",
    "display_name = \"pii_corpus\"\n",
    "rag_corpus = rag.create_corpus(display_name=display_name)"
   ]
  },
  {
   "cell_type": "code",
   "execution_count": 4,
   "id": "09f8aa24-e732-4b1b-9225-73d29836c268",
   "metadata": {
    "tags": []
   },
   "outputs": [],
   "source": [
    "# !pip install google-cloud-storage\n",
    "\n",
    "from google.cloud import storage\n",
    "\n",
    "directory_path = \"pii_example_docs\"\n",
    "\n",
    "# Create a Storage client object\n",
    "client = storage.Client()\n",
    "\n",
    "# Get the bucket object\n",
    "bucket = client.bucket(BUCKET_NAME)\n",
    "\n",
    "# Get iterator of blobs with a prefix matching the directory path\n",
    "blobs = bucket.list_blobs(prefix=directory_path)"
   ]
  },
  {
   "cell_type": "code",
   "execution_count": 5,
   "id": "a8d0f865-91cd-43f4-870b-0475bc997b37",
   "metadata": {
    "tags": []
   },
   "outputs": [],
   "source": [
    "# Create a RAG Corpus, Import Files, and Generate a response\n",
    "\n",
    "paths = [f\"gs://{BUCKET_NAME}/{blob.name}\" for blob in blobs]  # Supports Google Cloud Storage and Google Drive Links\n",
    "\n",
    "# Import Files to the RagCorpus\n",
    "response = rag.import_files(\n",
    "    rag_corpus.name,\n",
    "    paths,\n",
    "    chunk_size=512,  # Optional\n",
    "    chunk_overlap=100,  # Optional\n",
    ")"
   ]
  },
  {
   "cell_type": "code",
   "execution_count": 6,
   "id": "5964e60d-e1aa-4209-87e6-8369424f7d16",
   "metadata": {
    "tags": []
   },
   "outputs": [],
   "source": [
    "# Create a RAG retrieval tool\n",
    "rag_retrieval_tool = Tool.from_retrieval(\n",
    "    retrieval=rag.Retrieval(\n",
    "        source=rag.VertexRagStore(\n",
    "            rag_resources=[\n",
    "                rag.RagResource(\n",
    "                    rag_corpus=rag_corpus.name,  # Currently only 1 corpus is allowed.\n",
    "                    # Supply IDs from `rag.list_files()`.\n",
    "                    # rag_file_ids=[\"rag-file-1\", \"rag-file-2\", ...],\n",
    "                )\n",
    "            ],\n",
    "            similarity_top_k=3,  # Optional\n",
    "            vector_distance_threshold=0.5,  # Optional\n",
    "        ),\n",
    "    )\n",
    ")"
   ]
  },
  {
   "cell_type": "code",
   "execution_count": 7,
   "id": "f36b8e21-b805-4e6c-8f76-cc79c027f732",
   "metadata": {
    "tags": []
   },
   "outputs": [],
   "source": [
    "# Create a gemini-pro model instance\n",
    "MODEL_ID = \"gemini-1.5-pro-preview-0514\"\n",
    "rag_model = GenerativeModel(\n",
    "    model_name=MODEL_ID, tools=[rag_retrieval_tool]\n",
    ")"
   ]
  },
  {
   "cell_type": "code",
   "execution_count": null,
   "id": "6e4c89e7-2c38-420f-9a48-5333e9ef1a94",
   "metadata": {},
   "outputs": [],
   "source": []
  }
 ],
 "metadata": {
  "environment": {
   "kernel": "python3",
   "name": "tf2-gpu.2-13.m122",
   "type": "gcloud",
   "uri": "us-docker.pkg.dev/deeplearning-platform-release/gcr.io/tf2-gpu.2-13:m122"
  },
  "kernelspec": {
   "display_name": "Python 3 (Local)",
   "language": "python",
   "name": "python3"
  },
  "language_info": {
   "codemirror_mode": {
    "name": "ipython",
    "version": 3
   },
   "file_extension": ".py",
   "mimetype": "text/x-python",
   "name": "python",
   "nbconvert_exporter": "python",
   "pygments_lexer": "ipython3",
   "version": "3.10.14"
  }
 },
 "nbformat": 4,
 "nbformat_minor": 5
}
